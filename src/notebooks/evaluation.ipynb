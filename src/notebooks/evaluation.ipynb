{
 "cells": [
  {
   "cell_type": "markdown",
   "metadata": {
    "collapsed": true,
    "pycharm": {
     "name": "#%% md\n"
    }
   },
   "source": [
    "# Pokémon AI\n",
    "\n",
    "Evaluation"
   ]
  },
  {
   "cell_type": "code",
   "execution_count": 89,
   "outputs": [],
   "source": [
    "%matplotlib inline\n",
    "\n",
    "import matplotlib.pyplot as plt\n",
    "import numpy as np\n",
    "\n",
    "from src.battle import Battle\n",
    "from src.classes import Bag, Party, Player, Move, MoveBank, Pokemon, Stats, PokemonType\n",
    "from src.data import get_random_party, get_party\n",
    "from src.ai import DamageModel, PorygonModel, RandomModel\n",
    "\n",
    "PORYGON_MODEL_NAME = \"Porygon\"\n",
    "RANDOM_MODEL_NAME  = \"Random (Opponent)\"\n",
    "GENIUS_MODEL_NAME  = \"Genius (Opponent)\"\n",
    "\n",
    "NUM_GAMES_PER_MATCH = 3\n",
    "\n",
    "# Create a team class for grouping team-related details\n",
    "class Team:\n",
    "    def __init__(self, name, party, color = '#bfbfbf'):\n",
    "        self.name = name\n",
    "        self.party = party\n",
    "        self.color = color\n",
    "\n",
    "def test_teams(team_a: Team, team_b: Team, opposing_model_name: str = RANDOM_MODEL_NAME):\n",
    "    player_wins_a = player_wins_b = 0\n",
    "    opponent_wins_a = opponent_wins_b = 0\n",
    "    for _ in range(NUM_GAMES_PER_MATCH):\n",
    "        for team_1, team_2 in [(team_a, team_b), (team_b, team_a)]:\n",
    "            player1 = Player(PORYGON_MODEL_NAME, team_1.party, Bag(), PorygonModel())\n",
    "            player2 = Player(opposing_model_name, team_2.party, Bag(), RandomModel() if opposing_model_name == RANDOM_MODEL_NAME else DamageModel())\n",
    "            \n",
    "            battle = Battle(player1, player2, 0)\n",
    "            winner = battle.play()\n",
    "            \n",
    "            did_win = winner and winner.get_name() == PORYGON_MODEL_NAME\n",
    "            \n",
    "            if team_1 == team_a:\n",
    "                player_wins_a += int(did_win)\n",
    "                opponent_wins_b += int(not did_win)\n",
    "            else:\n",
    "                player_wins_b += int(did_win)\n",
    "                opponent_wins_a += int(not did_win)\n",
    "            \n",
    "    return player_wins_a, player_wins_b, opponent_wins_a, opponent_wins_b\n",
    "\n",
    "def plot_performance(team_a: Team, team_b: Team, player_wins_a: int, player_wins_b: int, opponent_wins_a: int, opponent_wins_b: int, opposing_model_name: str = RANDOM_MODEL_NAME):\n",
    "    ind = np.arange(2)  # the x locations for the groups\n",
    "    width = 0.4        # the width of the bars\n",
    "    \n",
    "    fig = plt.figure()\n",
    "    ax = fig.add_subplot(111)\n",
    "    \n",
    "    rects1 = ax.bar(ind-width/2, [player_wins_a, opponent_wins_a], width, color=team_a.color)\n",
    "    rects2 = ax.bar(ind+width/2, [player_wins_b, opponent_wins_b], width, color=team_b.color)\n",
    "    \n",
    "    ax.set_title('%s vs. %s' % (PORYGON_MODEL_NAME, opposing_model_name))\n",
    "    ax.set_xlabel('Team Used')\n",
    "    ax.set_ylabel('Number of Wins')\n",
    "    ax.set_xticks(ind)\n",
    "    ax.set_xticklabels((PORYGON_MODEL_NAME, opposing_model_name))\n",
    "    ax.legend((rects1[0], rects2[0]), (team_a.name, team_b.name))\n",
    "    \n",
    "    def autolabel(rects):\n",
    "        for rect in rects:\n",
    "            h = rect.get_height()\n",
    "            ax.text(rect.get_x()+rect.get_width()/2., 1.05*h, '%d'%int(h),\n",
    "                    ha='center', va='bottom')\n",
    "    \n",
    "    autolabel(rects1)\n",
    "    autolabel(rects2)\n",
    "    plt.show()"
   ],
   "metadata": {
    "collapsed": false,
    "pycharm": {
     "name": "#%%\n",
     "is_executing": false
    }
   }
  },
  {
   "cell_type": "markdown",
   "source": [
    "## Monotype"
   ],
   "metadata": {
    "collapsed": false
   }
  },
  {
   "cell_type": "markdown",
   "source": [
    "Create several monotype parties.\n",
    "\n",
    "TODO: Add reasoning here"
   ],
   "metadata": {
    "collapsed": false,
    "pycharm": {
     "name": "#%% md\n"
    }
   }
  },
  {
   "cell_type": "code",
   "source": [
    "water_monotype = get_party(\n",
    "    'Wartortle',\n",
    "    'Poliwhirl',\n",
    "    'Tentacruel',\n",
    "    'Goldeen',\n",
    "    'Starmie',\n",
    "    'Vaporeon',\n",
    ")\n",
    "water_team = Team('WATER Monotype', water_monotype, '#6390F0')\n",
    "print(\"\\n%s\\n\" % str(water_team.party))\n",
    "\n",
    "fire_monotype = get_party(\n",
    "    'Charmeleon',\n",
    "    'Vulpix',\n",
    "    'Ninetales',\n",
    "    'Growlithe',\n",
    "    'Ponyta',\n",
    "    'Flareon',\n",
    ")\n",
    "fire_team = Team('FIRE Monotype', fire_monotype, '#EE8130')\n",
    "print(\"\\n%s\\n\" % str(fire_team.party))\n",
    "\n",
    "grass_monotype = get_party(\n",
    "    'Venusaur',\n",
    "    'Vileplume',\n",
    "    'Weepinbell',\n",
    "    'Victreebel',\n",
    "    'Exeggcute',\n",
    "    'Tangela',\n",
    ")\n",
    "grass_team = Team('GRASS Monotype', grass_monotype, '#7AC74C')\n",
    "print(\"\\n%s\\n\" % str(grass_team.party))\n",
    "\n",
    "normal_monotype = get_party(\n",
    "    'Pidgeot',\n",
    "    'Raticate',\n",
    "    'Fearow',\n",
    "    'Wigglytuff',\n",
    "    'Persian',\n",
    "    'Chansey',\n",
    ")\n",
    "normal_team = Team('NORMAL Monotype', normal_monotype, '#A8A77A')\n",
    "print(\"\\n%s\\n\" % str(normal_team.party))\n",
    "\n",
    "bug_monotype = get_party(\n",
    "    'Butterfree',\n",
    "    'Beedrill',\n",
    "    'Paras',\n",
    "    'Venonat',\n",
    "    'Scyther',\n",
    "    'Caterpie',\n",
    ")\n",
    "bug_team = Team('BUG Monotype', bug_monotype, '#A6B91A')\n",
    "print(\"\\n%s\\n\" % str(bug_team.party))\n",
    "\n",
    "poison_monotype = get_party(\n",
    "    'Arbok',\n",
    "    'Nidorina',\n",
    "    'Nidoqueen',\n",
    "    'Nidoran-m',\n",
    "    'Nidorino',\n",
    "    'Zubat',\n",
    ")\n",
    "poison_team = Team('POISON Monotype', poison_monotype, '#A33EA1')\n",
    "print(\"\\n%s\\n\" % str(poison_team.party))\n",
    "\n",
    "electric_monotype = get_party(\n",
    "    'Pikachu',\n",
    "    'Magnemite',\n",
    "    'Magneton',\n",
    "    'Voltorb',\n",
    "    'Electabuzz',\n",
    "    'Jolteon',\n",
    ")\n",
    "electric_team = Team('ELECTRIC Monotype', electric_monotype, '#F7D02C')\n",
    "print(\"\\n%s\\n\" % str(electric_team.party))\n",
    "\n",
    "ground_monotype = get_party(\n",
    "    'Sandshrew',\n",
    "    'Sandslash',\n",
    "    'Diglett',\n",
    "    'Rhyhorn',\n",
    "    'Cubone',\n",
    "    'Marowak',\n",
    ")\n",
    "ground_team = Team('GROUND Monotype', ground_monotype, '#E2BF65')\n",
    "print(\"\\n%s\\n\" % str(ground_team.party))\n",
    "\n",
    "fighting_monotype = get_party(\n",
    "    'Machop',\n",
    "    'Machoke',\n",
    "    'Machamp',\n",
    "    'Hitmonchan',\n",
    "    'Machoke',\n",
    "    'Machamp',\n",
    ")\n",
    "fighting_team = Team('FIGHTING Monotype', fighting_monotype, '#C22E28')\n",
    "print(\"\\n%s\\n\" % str(fighting_team.party))\n",
    "\n",
    "rock_monotype = get_party(\n",
    "    'Omanyte',\n",
    "    'Omastar',\n",
    "    'Kabuto',\n",
    "    'Kabutops',\n",
    "    'Aerodactyl',\n",
    "    'Aerodactyl',\n",
    ")\n",
    "rock_team = Team('ROCK Monotype', rock_monotype, '#B6A136')\n",
    "print(\"\\n%s\\n\" % str(rock_team.party))\n",
    "\n",
    "ice_monotype = get_party(\n",
    "    'Jynx',\n",
    "    'Jynx',\n",
    "    'Articuno',\n",
    "    'Jynx',\n",
    "    'Jynx',\n",
    "    'Articuno',\n",
    ")\n",
    "ice_team = Team('ICE Monotype', ice_monotype, '#B6A136')\n",
    "print(\"\\n%s\\n\" % str(ice_team.party))\n",
    "\n",
    "psychic_monotype = get_party(\n",
    "    'Abra',\n",
    "    'Kadabra',\n",
    "    'Alakazam',\n",
    "    'Mewtwo',\n",
    "    'Mew',\n",
    "    'Hypno',\n",
    ")\n",
    "psychic_team = Team('PSYCHIC Monotype', psychic_monotype, '#F95587')\n",
    "print(\"\\n%s\\n\" % str(psychic_team.party))\n",
    "\n",
    "ghost_monotype = get_party(\n",
    "    'Gastly',\n",
    "    'Haunter',\n",
    "    'Gengar',\n",
    "    'Gastly',\n",
    "    'Haunter',\n",
    "    'Gengar',\n",
    ")\n",
    "ghost_team = Team('GHOST Monotype', ghost_monotype, '#735797')\n",
    "print(\"\\n%s\\n\" % str(ghost_team.party))"
   ],
   "metadata": {
    "collapsed": false,
    "pycharm": {
     "name": "#%%\n",
     "is_executing": false
    }
   },
   "execution_count": 90,
   "outputs": [
    {
     "name": "stdout",
     "text": [
      "\n1. Wartortle (WATER) 228/228 HP\n    · Hidden-power 15/15 PP  · Facade 20/20 PP  · Rock-tomb 15/15 PP  · Rollout 20/20 PP  \n2. Poliwhirl (WATER) 240/240 HP\n    · Water-gun 25/25 PP  · Thief 25/25 PP  · Waterfall 15/15 PP  · Bulldoze 20/20 PP  \n3. Tentacruel (WATER) 270/270 HP\n    · Blizzard 5/5 PP  · Brine 10/10 PP  · Waterfall 15/15 PP  · Giga-impact 5/5 PP  \n4. Goldeen (WATER) 200/200 HP\n    · Fury-attack 20/20 PP  · Hydro-pump 5/5 PP  · Knock-off 20/20 PP  · Megahorn 10/10 PP  \n5. Starmie (WATER) 230/230 HP\n    · Take-down 20/20 PP  · Secret-power 20/20 PP  · Twister 20/20 PP  · Brine 10/10 PP  \n6. Vaporeon (WATER) 370/370 HP\n    · Water-pulse 20/20 PP  · Water-gun 25/25 PP  · Signal-beam 15/15 PP  · Icy-wind 15/15 PP  \n\n\n1. Charmeleon (FIRE) 226/226 HP\n    · Power-up-punch 20/20 PP  · Secret-power 20/20 PP  · Rage 20/20 PP  · Ember 25/25 PP  \n2. Vulpix (FIRE) 186/186 HP\n    · Heat-wave 10/10 PP  · Secret-power 20/20 PP  · Quick-attack 30/30 PP  · Ember 25/25 PP  \n3. Ninetales (FIRE) 256/256 HP\n    · Flamethrower 15/15 PP  · Snore 15/15 PP  · Energy-ball 10/10 PP  · Covet 25/25 PP  \n4. Growlithe (FIRE) 220/220 HP\n    · Overheat 5/5 PP  · Round 15/15 PP  · Skull-bash 10/10 PP  · Rock-smash 15/15 PP  \n5. Ponyta (FIRE) 210/210 HP\n    · Overheat 5/5 PP  · Solar-beam 10/10 PP  · Heat-wave 10/10 PP  · Hidden-power 15/15 PP  \n6. Flareon (FIRE) 240/240 HP\n    · Fire-fang 15/15 PP  · Iron-tail 15/15 PP  · Rage 20/20 PP  · Strength 15/15 PP  \n\n\n1. Venusaur (GRASS) 270/270 HP\n    · Giga-drain 10/10 PP  · Energy-ball 10/10 PP  · Hidden-power 15/15 PP  · Frenzy-plant 5/5 PP  \n2. Vileplume (GRASS) 260/260 HP\n    · Drain-punch 10/10 PP  · Venoshock 10/10 PP  · Acid 30/30 PP  · Solar-beam 10/10 PP  \n3. Weepinbell (GRASS) 240/240 HP\n    · Rage 20/20 PP  · Bullet-seed 30/30 PP  · Hidden-power 15/15 PP  · Poison-jab 20/20 PP  \n4. Victreebel (GRASS) 270/270 HP\n    · Leaf-blade 15/15 PP  · Cut 30/30 PP  · Round 15/15 PP  · Acid 30/30 PP  \n5. Exeggcute (GRASS) 230/230 HP\n    · Facade 20/20 PP  · Leaf-storm 5/5 PP  · Bullet-seed 30/30 PP  · Barrage 20/20 PP  \n6. Tangela (GRASS) 240/240 HP\n    · Take-down 20/20 PP  · Facade 20/20 PP  · Rock-smash 15/15 PP  · Leaf-storm 5/5 PP  \n\n\n1. Pidgeot (NORMAL) 276/276 HP\n    · Steel-wing 25/25 PP  · Aerial-ace 20/20 PP  · Giga-impact 5/5 PP  · Wing-attack 35/35 PP  \n2. Raticate (NORMAL) 220/220 HP\n    · U-turn 20/20 PP  · Headbutt 15/15 PP  · Shock-wave 20/20 PP  · Hyper-beam 5/5 PP  \n3. Fearow (NORMAL) 240/240 HP\n    · Facade 20/20 PP  · Hidden-power 15/15 PP  · Ominous-wind 5/5 PP  · Air-cutter 25/25 PP  \n4. Wigglytuff (NORMAL) 390/390 HP\n    · Round 15/15 PP  · Blizzard 5/5 PP  · Flamethrower 15/15 PP  · Skull-bash 10/10 PP  \n5. Persian (NORMAL) 240/240 HP\n    · Swift 20/20 PP  · Mud-slap 10/10 PP  · Aerial-ace 20/20 PP  · Zap-cannon 5/5 PP  \n6. Chansey (NORMAL) 610/610 HP\n    · Giga-impact 5/5 PP  · Take-down 20/20 PP  · Pound 35/35 PP  · Rollout 20/20 PP  \n\n\n1. Butterfree (BUG) 230/230 HP\n    · Rage 20/20 PP  · Psybeam 20/20 PP  · Signal-beam 15/15 PP  · Air-cutter 25/25 PP  \n2. Beedrill (BUG) 240/240 HP\n    · Silver-wind 5/5 PP  · Electroweb 15/15 PP  · Drill-run 10/10 PP  · Snore 15/15 PP  \n3. Paras (BUG) 180/180 HP\n    · Cross-poison 20/20 PP  · Aerial-ace 20/20 PP  · False-swipe 40/40 PP  · Fury-cutter 20/20 PP  \n4. Venonat (BUG) 230/230 HP\n    · Double-edge 15/15 PP  · Hidden-power 15/15 PP  · Leech-life 10/10 PP  · Psychic 10/10 PP  \n5. Scyther (BUG) 250/250 HP\n    · Fury-cutter 20/20 PP  · Take-down 20/20 PP  · Rage 20/20 PP  · Bug-bite 20/20 PP  \n6. Caterpie (BUG) 200/200 HP\n    · Bug-bite 20/20 PP  · Snore 15/15 PP  · Tackle 35/35 PP  · Electroweb 15/15 PP  \n\n\n1. Arbok (POISON) 230/230 HP\n    · Sludge-bomb 10/10 PP  · Poison-jab 20/20 PP  · Gunk-shot 5/5 PP  · Hidden-power 15/15 PP  \n2. Nidorina (POISON) 250/250 HP\n    · Strength 15/15 PP  · Double-kick 30/30 PP  · Poison-sting 35/35 PP  · Facade 20/20 PP  \n3. Nidoqueen (POISON) 290/290 HP\n    · Poison-jab 20/20 PP  · Secret-power 20/20 PP  · Fire-punch 15/15 PP  · Water-gun 25/25 PP  \n4. Nidoran-m (POISON) 202/202 HP\n    · Facade 20/20 PP  · Rock-smash 15/15 PP  · Thunderbolt 15/15 PP  · Venoshock 10/10 PP  \n5. Nidorino (POISON) 232/232 HP\n    · Strength 15/15 PP  · Echoed-voice 15/15 PP  · Venoshock 10/10 PP  · Bubble-beam 20/20 PP  \n6. Zubat (POISON) 190/190 HP\n    · Shadow-ball 15/15 PP  · Sludge-bomb 10/10 PP  · Bite 25/25 PP  · Snore 15/15 PP  \n\n\n1. Pikachu (ELECTRIC) 180/180 HP\n    · Thunder-punch 15/15 PP  · Rollout 20/20 PP  · Nuzzle 20/20 PP  · Take-down 20/20 PP  \n2. Magnemite (ELECTRIC) 160/160 HP\n    · Hidden-power 15/15 PP  · Discharge 15/15 PP  · Charge-beam 10/10 PP  · Flash-cannon 10/10 PP  \n3. Magneton (ELECTRIC) 210/210 HP\n    · Explosion 5/5 PP  · Volt-switch 20/20 PP  · Thunderbolt 15/15 PP  · Flash-cannon 10/10 PP  \n4. Voltorb (ELECTRIC) 190/190 HP\n    · Charge-beam 10/10 PP  · Sucker-punch 5/5 PP  · Snore 15/15 PP  · Facade 20/20 PP  \n5. Electabuzz (ELECTRIC) 240/240 HP\n    · Charge-beam 10/10 PP  · Mega-punch 20/20 PP  · Hyper-beam 5/5 PP  · Giga-impact 5/5 PP  \n6. Jolteon (ELECTRIC) 240/240 HP\n    · Hyper-beam 5/5 PP  · Signal-beam 15/15 PP  · Discharge 15/15 PP  · Secret-power 20/20 PP  \n\n\n1. Sandshrew (GROUND) 210/210 HP\n    · Night-slash 15/15 PP  · Double-edge 15/15 PP  · Secret-power 20/20 PP  · Earthquake 10/10 PP  \n2. Sandslash (GROUND) 260/260 HP\n    · Covet 25/25 PP  · Dig 10/10 PP  · Earthquake 10/10 PP  · X-scissor 15/15 PP  \n3. Diglett (GROUND) 130/130 HP\n    · Take-down 20/20 PP  · Sucker-punch 5/5 PP  · Mud-bomb 10/10 PP  · Headbutt 15/15 PP  \n4. Rhyhorn (GROUND) 270/270 HP\n    · Pursuit 20/20 PP  · Aqua-tail 10/10 PP  · Earthquake 10/10 PP  · Headbutt 15/15 PP  \n5. Cubone (GROUND) 210/210 HP\n    · Dynamic-punch 5/5 PP  · Hidden-power 15/15 PP  · Rage 20/20 PP  · Earthquake 10/10 PP  \n6. Marowak (GROUND) 230/230 HP\n    · Outrage 10/10 PP  · Strength 15/15 PP  · Power-up-punch 20/20 PP  · Earthquake 10/10 PP  \n\n\n1. Machop (FIGHTING) 250/250 HP\n    · Dual-chop 15/15 PP  · Submission 20/20 PP  · Karate-chop 25/25 PP  · Rock-slide 10/10 PP  \n2. Machoke (FIGHTING) 270/270 HP\n    · Round 15/15 PP  · Karate-chop 25/25 PP  · Brick-break 15/15 PP  · Rage 20/20 PP  \n3. Machamp (FIGHTING) 290/290 HP\n    · Rock-tomb 15/15 PP  · Revenge 10/10 PP  · Giga-impact 5/5 PP  · Bulldoze 20/20 PP  \n4. Hitmonchan (FIGHTING) 210/210 HP\n    · Feint 10/10 PP  · Headbutt 15/15 PP  · Power-up-punch 20/20 PP  · Low-sweep 20/20 PP  \n5. Machoke (FIGHTING) 270/270 HP\n    · Round 15/15 PP  · Karate-chop 25/25 PP  · Brick-break 15/15 PP  · Rage 20/20 PP  \n6. Machamp (FIGHTING) 290/290 HP\n    · Rock-tomb 15/15 PP  · Revenge 10/10 PP  · Giga-impact 5/5 PP  · Bulldoze 20/20 PP  \n\n\n1. Omanyte (ROCK) 180/180 HP\n    · Ice-beam 10/10 PP  · Rock-smash 15/15 PP  · Bite 25/25 PP  · Surf 15/15 PP  \n2. Omastar (ROCK) 250/250 HP\n    · Earth-power 10/10 PP  · Rock-slide 10/10 PP  · Constrict 35/35 PP  · Hidden-power 15/15 PP  \n3. Kabuto (ROCK) 170/170 HP\n    · Rock-tomb 15/15 PP  · Ice-beam 10/10 PP  · Scratch 35/35 PP  · Brine 10/10 PP  \n4. Kabutops (ROCK) 230/230 HP\n    · Skull-bash 10/10 PP  · Bubble-beam 20/20 PP  · Fury-cutter 20/20 PP  · Rock-climb 20/20 PP  \n5. Aerodactyl (ROCK) 270/270 HP\n    · Sky-attack 5/5 PP  · Rock-tomb 15/15 PP  · Swift 20/20 PP  · Incinerate 15/15 PP  \n6. Aerodactyl (ROCK) 270/270 HP\n    · Sky-attack 5/5 PP  · Rock-tomb 15/15 PP  · Swift 20/20 PP  · Incinerate 15/15 PP  \n\n\n1. Jynx (ICE) 240/240 HP\n    · Facade 20/20 PP  · Brick-break 15/15 PP  · Mud-slap 10/10 PP  · Echoed-voice 15/15 PP  \n2. Jynx (ICE) 240/240 HP\n    · Facade 20/20 PP  · Brick-break 15/15 PP  · Mud-slap 10/10 PP  · Echoed-voice 15/15 PP  \n3. Articuno (ICE) 290/290 HP\n    · Twister 20/20 PP  · Blizzard 5/5 PP  · U-turn 20/20 PP  · Avalanche 10/10 PP  \n4. Jynx (ICE) 240/240 HP\n    · Facade 20/20 PP  · Brick-break 15/15 PP  · Mud-slap 10/10 PP  · Echoed-voice 15/15 PP  \n5. Jynx (ICE) 240/240 HP\n    · Facade 20/20 PP  · Brick-break 15/15 PP  · Mud-slap 10/10 PP  · Echoed-voice 15/15 PP  \n6. Articuno (ICE) 290/290 HP\n    · Twister 20/20 PP  · Blizzard 5/5 PP  · U-turn 20/20 PP  · Avalanche 10/10 PP  \n\n\n1. Abra (PSYCHIC) 160/160 HP\n    · Signal-beam 15/15 PP  · Psychic 10/10 PP  · Take-down 20/20 PP  · Charge-beam 10/10 PP  \n2. Kadabra (PSYCHIC) 190/190 HP\n    · Take-down 20/20 PP  · Dream-eater 15/15 PP  · Dig 10/10 PP  · Psybeam 20/20 PP  \n3. Alakazam (PSYCHIC) 220/220 HP\n    · Skull-bash 10/10 PP  · Mega-kick 5/5 PP  · Hidden-power 15/15 PP  · Dream-eater 15/15 PP  \n4. Mewtwo (PSYCHIC) 322/322 HP\n    · Zen-headbutt 15/15 PP  · Incinerate 15/15 PP  · Aerial-ace 20/20 PP  · Thunderbolt 15/15 PP  \n5. Mew (PSYCHIC) 310/310 HP\n    · Mega-kick 5/5 PP  · Secret-power 20/20 PP  · Charge-beam 10/10 PP  · Zen-headbutt 15/15 PP  \n6. Hypno (PSYCHIC) 280/280 HP\n    · Headbutt 15/15 PP  · Dazzling-gleam 10/10 PP  · Ice-punch 15/15 PP  · Confusion 25/25 PP  \n\n\n1. Gastly (GHOST) 170/170 HP\n    · Sucker-punch 5/5 PP  · Thunder 10/10 PP  · Icy-wind 15/15 PP  · Hex 10/10 PP  \n2. Haunter (GHOST) 200/200 HP\n    · Lick 30/30 PP  · Self-destruct 5/5 PP  · Foul-play 15/15 PP  · Round 15/15 PP  \n3. Gengar (GHOST) 230/230 HP\n    · Fire-punch 15/15 PP  · Mega-punch 20/20 PP  · Shadow-claw 15/15 PP  · Focus-punch 20/20 PP  \n4. Gastly (GHOST) 170/170 HP\n    · Sucker-punch 5/5 PP  · Thunder 10/10 PP  · Icy-wind 15/15 PP  · Hex 10/10 PP  \n5. Haunter (GHOST) 200/200 HP\n    · Lick 30/30 PP  · Self-destruct 5/5 PP  · Foul-play 15/15 PP  · Round 15/15 PP  \n6. Gengar (GHOST) 230/230 HP\n    · Fire-punch 15/15 PP  · Mega-punch 20/20 PP  · Shadow-claw 15/15 PP  · Focus-punch 20/20 PP  \n\n"
     ],
     "output_type": "stream"
    }
   ]
  },
  {
   "cell_type": "code",
   "execution_count": 91,
   "outputs": [
    {
     "data": {
      "text/plain": "<Figure size 432x288 with 1 Axes>",
      "image/png": "[encoded data removed]"
     },
     "metadata": {
      "needs_background": "light"
     },
     "output_type": "display_data"
    }
   ],
   "source": [
    "TEAM_A = water_team\n",
    "TEAM_B = ghost_team\n",
    "\n",
    "player_wins_a, player_wins_b, opponent_wins_a, opponent_wins_b = 1, 2, 3, 4\n",
    "\n",
    "plot_performance(TEAM_A, TEAM_B, player_wins_a, player_wins_b, opponent_wins_a, opponent_wins_b)"
   ],
   "metadata": {
    "collapsed": false,
    "pycharm": {
     "name": "#%%\n",
     "is_executing": false
    }
   }
  },
  {
   "cell_type": "markdown",
   "source": [
    "### Random Opponent"
   ],
   "metadata": {
    "collapsed": false
   }
  },
  {
   "cell_type": "markdown",
   "source": [
    "### Super Genius Opponent\n",
    "\n"
   ],
   "metadata": {
    "collapsed": false,
    "pycharm": {
     "name": "#%% md\n"
    }
   }
  },
  {
   "cell_type": "markdown",
   "source": [
    "## Strategic Types"
   ],
   "metadata": {
    "collapsed": false
   }
  },
  {
   "cell_type": "markdown",
   "source": [
    "Create several strategically-typed parties.\n",
    "\n",
    "TODO: Add reasoning here"
   ],
   "metadata": {
    "collapsed": false
   }
  },
  {
   "cell_type": "code",
   "source": [],
   "metadata": {
    "collapsed": false,
    "pycharm": {
     "name": "#%%\n",
     "is_executing": false
    }
   },
   "execution_count": 91,
   "outputs": []
  }
 ],
 "metadata": {
  "kernelspec": {
   "display_name": "Python 3",
   "language": "python",
   "name": "python3"
  },
  "language_info": {
   "codemirror_mode": {
    "name": "ipython",
    "version": 2
   },
   "file_extension": ".py",
   "mimetype": "text/x-python",
   "name": "python",
   "nbconvert_exporter": "python",
   "pygments_lexer": "ipython2",
   "version": "2.7.6"
  },
  "pycharm": {
   "stem_cell": {
    "cell_type": "raw",
    "source": [],
    "metadata": {
     "collapsed": false
    }
   }
  }
 },
 "nbformat": 4,
 "nbformat_minor": 0
}