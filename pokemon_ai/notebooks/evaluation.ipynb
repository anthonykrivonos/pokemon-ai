{
 "cells": [
  {
   "cell_type": "markdown",
   "metadata": {
    "collapsed": true,
    "pycharm": {
     "name": "#%% md\n"
    }
   },
   "source": [
    "# Pokémon AI\n",
    "\n",
    "Evaluation"
   ]
  },
  {
   "cell_type": "code",
   "execution_count": 1,
   "metadata": {
    "pycharm": {
     "is_executing": false,
     "name": "#%%\n"
    }
   },
   "outputs": [],
   "source": [
    "%matplotlib inline\n",
    "\n",
    "import sys, os\n",
    "from os.path import join, dirname\n",
    "from copy import deepcopy\n",
    "sys.path.append(join(os.getcwd(), '../..'))\n",
    "\n",
    "import matplotlib.pyplot as plt\n",
    "import numpy as np\n",
    "\n",
    "from src.battle import Battle\n",
    "from src.classes import Bag, Party, Player, Move, MoveBank, Pokemon, Stats, PokemonType\n",
    "from src.data import get_random_party, get_party\n",
    "from src.ai import DamageModel, PorygonModel, RandomModel\n",
    "\n",
    "PORYGON_MODEL_NAME = \"Porygon\"\n",
    "RANDOM_MODEL_NAME  = \"Random (Opponent)\"\n",
    "GENIUS_MODEL_NAME  = \"Genius (Opponent)\"\n",
    "\n",
    "NUM_GAMES_PER_MATCH = 50\n",
    "\n",
    "# Create a team class for grouping team-related details\n",
    "class Team:\n",
    "    def __init__(self, name, party, color = '#bfbfbf'):\n",
    "        self.name = name\n",
    "        self.color = color\n",
    "        self._party = party\n",
    "    def get_party(self):\n",
    "        return deepcopy(self._party)\n",
    "    def __str__(self):\n",
    "        return \"%s\\n%s\" % (self.name, str(self._party))\n",
    "\n",
    "def test_play(team_a: Team, team_b: Team, opposing_model = RandomModel(), opposing_model_name: str = RANDOM_MODEL_NAME, use_damage_model=False):\n",
    "    player_wins_a = player_wins_b = 0\n",
    "    opponent_wins_a = opponent_wins_b = 0\n",
    "    for _ in range(NUM_GAMES_PER_MATCH):\n",
    "        for team_1, team_2 in [(team_a, team_b), (team_b, team_a)]:\n",
    "            player1 = Player(PORYGON_MODEL_NAME, team_1.get_party(), Bag(), PorygonModel(use_damage_model=use_damage_model, verbose=False))\n",
    "            player2 = Player(opposing_model_name, team_2.get_party(), Bag(), opposing_model)\n",
    "            \n",
    "            battle = Battle(player1, player2, 0)\n",
    "            winner = battle.play()\n",
    "            \n",
    "            did_win = winner and winner.get_name() == PORYGON_MODEL_NAME\n",
    "            \n",
    "            if team_1.name == team_a.name:\n",
    "                player_wins_a += int(did_win)\n",
    "                opponent_wins_b += int(not did_win)\n",
    "            else:\n",
    "                player_wins_b += int(did_win)\n",
    "                opponent_wins_a += int(not did_win)\n",
    "            \n",
    "    return player_wins_a, player_wins_b, opponent_wins_a, opponent_wins_b\n",
    "\n",
    "def plot_performance(team_a: Team, team_b: Team, player_wins_a: int, player_wins_b: int, opponent_wins_a: int, opponent_wins_b: int, opposing_model_name: str = RANDOM_MODEL_NAME):\n",
    "    ind = np.arange(2)  # the x locations for the groups\n",
    "    width = 0.4        # the width of the bars\n",
    "    \n",
    "    fig = plt.figure()\n",
    "    ax = fig.add_subplot(111)\n",
    "    \n",
    "    rects1 = ax.bar(ind-width/2, [player_wins_a, opponent_wins_a], width, color=team_a.color)\n",
    "    rects2 = ax.bar(ind+width/2, [player_wins_b, opponent_wins_b], width, color=team_b.color)\n",
    "    \n",
    "    ax.set_title('%s vs. %s' % (PORYGON_MODEL_NAME, opposing_model_name))\n",
    "    ax.set_xlabel('Player')\n",
    "    ax.set_ylabel('Number of Wins')\n",
    "    ax.set_xticks(ind)\n",
    "    ax.set_xticklabels((PORYGON_MODEL_NAME, opposing_model_name))\n",
    "    ax.legend((rects1[0], rects2[0]), (team_a.name, team_b.name))\n",
    "    \n",
    "    def autolabel(rects):\n",
    "        for rect in rects:\n",
    "            h = rect.get_height()\n",
    "            ax.text(rect.get_x()+rect.get_width()/2., 1.05*h, '%d'%int(h),\n",
    "                    ha='center', va='bottom')\n",
    "    \n",
    "    autolabel(rects1)\n",
    "    autolabel(rects2)\n",
    "    plt.show()"
   ]
  },
  {
   "cell_type": "markdown",
   "metadata": {},
   "source": [
    "## Monotype"
   ]
  },
  {
   "cell_type": "markdown",
   "metadata": {
    "pycharm": {
     "name": "#%% md\n"
    }
   },
   "source": [
    "Create several monotype parties.\n",
    "\n",
    "TODO: Add reasoning here"
   ]
  },
  {
   "cell_type": "code",
   "execution_count": 2,
   "metadata": {
    "pycharm": {
     "is_executing": false,
     "name": "#%%\n"
    }
   },
   "outputs": [
    {
     "name": "stdout",
     "output_type": "stream",
     "text": [
      "\n",
      "WATER Monotype\n",
      "1. Wartortle (WATER) 228/228 HP\n",
      "    · Hidden-power 15/15 PP  · Facade 20/20 PP  · Rock-tomb 15/15 PP  · Rollout 20/20 PP  \n",
      "2. Poliwhirl (WATER) 240/240 HP\n",
      "    · Water-gun 25/25 PP  · Thief 25/25 PP  · Waterfall 15/15 PP  · Bulldoze 20/20 PP  \n",
      "3. Tentacruel (WATER) 270/270 HP\n",
      "    · Blizzard 5/5 PP  · Brine 10/10 PP  · Waterfall 15/15 PP  · Giga-impact 5/5 PP  \n",
      "4. Goldeen (WATER) 200/200 HP\n",
      "    · Fury-attack 20/20 PP  · Hydro-pump 5/5 PP  · Knock-off 20/20 PP  · Megahorn 10/10 PP  \n",
      "5. Starmie (WATER) 230/230 HP\n",
      "    · Take-down 20/20 PP  · Secret-power 20/20 PP  · Twister 20/20 PP  · Brine 10/10 PP  \n",
      "6. Vaporeon (WATER) 370/370 HP\n",
      "    · Water-pulse 20/20 PP  · Water-gun 25/25 PP  · Signal-beam 15/15 PP  · Icy-wind 15/15 PP  \n",
      "\n",
      "\n",
      "FIRE Monotype\n",
      "1. Charmeleon (FIRE) 226/226 HP\n",
      "    · Power-up-punch 20/20 PP  · Secret-power 20/20 PP  · Rage 20/20 PP  · Ember 25/25 PP  \n",
      "2. Vulpix (FIRE) 186/186 HP\n",
      "    · Heat-wave 10/10 PP  · Secret-power 20/20 PP  · Quick-attack 30/30 PP  · Ember 25/25 PP  \n",
      "3. Ninetales (FIRE) 256/256 HP\n",
      "    · Flamethrower 15/15 PP  · Snore 15/15 PP  · Energy-ball 10/10 PP  · Covet 25/25 PP  \n",
      "4. Growlithe (FIRE) 220/220 HP\n",
      "    · Overheat 5/5 PP  · Round 15/15 PP  · Skull-bash 10/10 PP  · Rock-smash 15/15 PP  \n",
      "5. Ponyta (FIRE) 210/210 HP\n",
      "    · Overheat 5/5 PP  · Solar-beam 10/10 PP  · Heat-wave 10/10 PP  · Hidden-power 15/15 PP  \n",
      "6. Flareon (FIRE) 240/240 HP\n",
      "    · Fire-fang 15/15 PP  · Iron-tail 15/15 PP  · Rage 20/20 PP  · Strength 15/15 PP  \n",
      "\n",
      "\n",
      "GRASS Monotype\n",
      "1. Venusaur (GRASS) 270/270 HP\n",
      "    · Giga-drain 10/10 PP  · Energy-ball 10/10 PP  · Hidden-power 15/15 PP  · Frenzy-plant 5/5 PP  \n",
      "2. Vileplume (GRASS) 260/260 HP\n",
      "    · Drain-punch 10/10 PP  · Venoshock 10/10 PP  · Acid 30/30 PP  · Solar-beam 10/10 PP  \n",
      "3. Weepinbell (GRASS) 240/240 HP\n",
      "    · Rage 20/20 PP  · Bullet-seed 30/30 PP  · Hidden-power 15/15 PP  · Poison-jab 20/20 PP  \n",
      "4. Victreebel (GRASS) 270/270 HP\n",
      "    · Leaf-blade 15/15 PP  · Cut 30/30 PP  · Round 15/15 PP  · Acid 30/30 PP  \n",
      "5. Exeggcute (GRASS) 230/230 HP\n",
      "    · Facade 20/20 PP  · Leaf-storm 5/5 PP  · Bullet-seed 30/30 PP  · Barrage 20/20 PP  \n",
      "6. Tangela (GRASS) 240/240 HP\n",
      "    · Take-down 20/20 PP  · Facade 20/20 PP  · Rock-smash 15/15 PP  · Leaf-storm 5/5 PP  \n",
      "\n",
      "\n",
      "NORMAL Monotype\n",
      "1. Pidgeot (NORMAL) 276/276 HP\n",
      "    · Steel-wing 25/25 PP  · Aerial-ace 20/20 PP  · Giga-impact 5/5 PP  · Wing-attack 35/35 PP  \n",
      "2. Raticate (NORMAL) 220/220 HP\n",
      "    · U-turn 20/20 PP  · Headbutt 15/15 PP  · Shock-wave 20/20 PP  · Hyper-beam 5/5 PP  \n",
      "3. Fearow (NORMAL) 240/240 HP\n",
      "    · Facade 20/20 PP  · Hidden-power 15/15 PP  · Ominous-wind 5/5 PP  · Air-cutter 25/25 PP  \n",
      "4. Wigglytuff (NORMAL) 390/390 HP\n",
      "    · Round 15/15 PP  · Blizzard 5/5 PP  · Flamethrower 15/15 PP  · Skull-bash 10/10 PP  \n",
      "5. Persian (NORMAL) 240/240 HP\n",
      "    · Swift 20/20 PP  · Mud-slap 10/10 PP  · Aerial-ace 20/20 PP  · Zap-cannon 5/5 PP  \n",
      "6. Chansey (NORMAL) 610/610 HP\n",
      "    · Giga-impact 5/5 PP  · Take-down 20/20 PP  · Pound 35/35 PP  · Rollout 20/20 PP  \n",
      "\n",
      "\n",
      "BUG Monotype\n",
      "1. Butterfree (BUG) 230/230 HP\n",
      "    · Rage 20/20 PP  · Psybeam 20/20 PP  · Signal-beam 15/15 PP  · Air-cutter 25/25 PP  \n",
      "2. Beedrill (BUG) 240/240 HP\n",
      "    · Silver-wind 5/5 PP  · Electroweb 15/15 PP  · Drill-run 10/10 PP  · Snore 15/15 PP  \n",
      "3. Paras (BUG) 180/180 HP\n",
      "    · Cross-poison 20/20 PP  · Aerial-ace 20/20 PP  · False-swipe 40/40 PP  · Fury-cutter 20/20 PP  \n",
      "4. Venonat (BUG) 230/230 HP\n",
      "    · Double-edge 15/15 PP  · Hidden-power 15/15 PP  · Leech-life 10/10 PP  · Psychic 10/10 PP  \n",
      "5. Scyther (BUG) 250/250 HP\n",
      "    · Fury-cutter 20/20 PP  · Take-down 20/20 PP  · Rage 20/20 PP  · Bug-bite 20/20 PP  \n",
      "6. Caterpie (BUG) 200/200 HP\n",
      "    · Bug-bite 20/20 PP  · Snore 15/15 PP  · Tackle 35/35 PP  · Electroweb 15/15 PP  \n",
      "\n",
      "\n",
      "POISON Monotype\n",
      "1. Arbok (POISON) 230/230 HP\n",
      "    · Sludge-bomb 10/10 PP  · Poison-jab 20/20 PP  · Gunk-shot 5/5 PP  · Hidden-power 15/15 PP  \n",
      "2. Nidorina (POISON) 250/250 HP\n",
      "    · Strength 15/15 PP  · Double-kick 30/30 PP  · Poison-sting 35/35 PP  · Facade 20/20 PP  \n",
      "3. Nidoqueen (POISON) 290/290 HP\n",
      "    · Poison-jab 20/20 PP  · Secret-power 20/20 PP  · Fire-punch 15/15 PP  · Water-gun 25/25 PP  \n",
      "4. Nidoran-m (POISON) 202/202 HP\n",
      "    · Facade 20/20 PP  · Rock-smash 15/15 PP  · Thunderbolt 15/15 PP  · Venoshock 10/10 PP  \n",
      "5. Nidorino (POISON) 232/232 HP\n",
      "    · Strength 15/15 PP  · Echoed-voice 15/15 PP  · Venoshock 10/10 PP  · Bubble-beam 20/20 PP  \n",
      "6. Zubat (POISON) 190/190 HP\n",
      "    · Shadow-ball 15/15 PP  · Sludge-bomb 10/10 PP  · Bite 25/25 PP  · Snore 15/15 PP  \n",
      "\n",
      "\n",
      "ELECTRIC Monotype\n",
      "1. Pikachu (ELECTRIC) 180/180 HP\n",
      "    · Thunder-punch 15/15 PP  · Rollout 20/20 PP  · Nuzzle 20/20 PP  · Take-down 20/20 PP  \n",
      "2. Magnemite (ELECTRIC) 160/160 HP\n",
      "    · Hidden-power 15/15 PP  · Discharge 15/15 PP  · Charge-beam 10/10 PP  · Flash-cannon 10/10 PP  \n",
      "3. Magneton (ELECTRIC) 210/210 HP\n",
      "    · Explosion 5/5 PP  · Volt-switch 20/20 PP  · Thunderbolt 15/15 PP  · Flash-cannon 10/10 PP  \n",
      "4. Voltorb (ELECTRIC) 190/190 HP\n",
      "    · Charge-beam 10/10 PP  · Sucker-punch 5/5 PP  · Snore 15/15 PP  · Facade 20/20 PP  \n",
      "5. Electabuzz (ELECTRIC) 240/240 HP\n",
      "    · Charge-beam 10/10 PP  · Mega-punch 20/20 PP  · Hyper-beam 5/5 PP  · Giga-impact 5/5 PP  \n",
      "6. Jolteon (ELECTRIC) 240/240 HP\n",
      "    · Hyper-beam 5/5 PP  · Signal-beam 15/15 PP  · Discharge 15/15 PP  · Secret-power 20/20 PP  \n",
      "\n",
      "\n",
      "GROUND Monotype\n",
      "1. Sandshrew (GROUND) 210/210 HP\n",
      "    · Night-slash 15/15 PP  · Double-edge 15/15 PP  · Secret-power 20/20 PP  · Earthquake 10/10 PP  \n",
      "2. Sandslash (GROUND) 260/260 HP\n",
      "    · Covet 25/25 PP  · Dig 10/10 PP  · Earthquake 10/10 PP  · X-scissor 15/15 PP  \n",
      "3. Diglett (GROUND) 130/130 HP\n",
      "    · Take-down 20/20 PP  · Sucker-punch 5/5 PP  · Mud-bomb 10/10 PP  · Headbutt 15/15 PP  \n",
      "4. Rhyhorn (GROUND) 270/270 HP\n",
      "    · Pursuit 20/20 PP  · Aqua-tail 10/10 PP  · Earthquake 10/10 PP  · Headbutt 15/15 PP  \n",
      "5. Cubone (GROUND) 210/210 HP\n",
      "    · Dynamic-punch 5/5 PP  · Hidden-power 15/15 PP  · Rage 20/20 PP  · Earthquake 10/10 PP  \n",
      "6. Marowak (GROUND) 230/230 HP\n",
      "    · Outrage 10/10 PP  · Strength 15/15 PP  · Power-up-punch 20/20 PP  · Earthquake 10/10 PP  \n",
      "\n",
      "\n",
      "FIGHTING Monotype\n",
      "1. Machop (FIGHTING) 250/250 HP\n",
      "    · Dual-chop 15/15 PP  · Submission 20/20 PP  · Karate-chop 25/25 PP  · Rock-slide 10/10 PP  \n",
      "2. Machoke (FIGHTING) 270/270 HP\n",
      "    · Round 15/15 PP  · Karate-chop 25/25 PP  · Brick-break 15/15 PP  · Rage 20/20 PP  \n",
      "3. Machamp (FIGHTING) 290/290 HP\n",
      "    · Rock-tomb 15/15 PP  · Revenge 10/10 PP  · Giga-impact 5/5 PP  · Bulldoze 20/20 PP  \n",
      "4. Hitmonchan (FIGHTING) 210/210 HP\n",
      "    · Feint 10/10 PP  · Headbutt 15/15 PP  · Power-up-punch 20/20 PP  · Low-sweep 20/20 PP  \n",
      "5. Machoke (FIGHTING) 270/270 HP\n",
      "    · Round 15/15 PP  · Karate-chop 25/25 PP  · Brick-break 15/15 PP  · Rage 20/20 PP  \n",
      "6. Machamp (FIGHTING) 290/290 HP\n",
      "    · Rock-tomb 15/15 PP  · Revenge 10/10 PP  · Giga-impact 5/5 PP  · Bulldoze 20/20 PP  \n",
      "\n",
      "\n",
      "ROCK Monotype\n",
      "1. Omanyte (ROCK) 180/180 HP\n",
      "    · Ice-beam 10/10 PP  · Rock-smash 15/15 PP  · Bite 25/25 PP  · Surf 15/15 PP  \n",
      "2. Omastar (ROCK) 250/250 HP\n",
      "    · Earth-power 10/10 PP  · Rock-slide 10/10 PP  · Constrict 35/35 PP  · Hidden-power 15/15 PP  \n",
      "3. Kabuto (ROCK) 170/170 HP\n",
      "    · Rock-tomb 15/15 PP  · Ice-beam 10/10 PP  · Scratch 35/35 PP  · Brine 10/10 PP  \n",
      "4. Kabutops (ROCK) 230/230 HP\n",
      "    · Skull-bash 10/10 PP  · Bubble-beam 20/20 PP  · Fury-cutter 20/20 PP  · Rock-climb 20/20 PP  \n",
      "5. Aerodactyl (ROCK) 270/270 HP\n",
      "    · Sky-attack 5/5 PP  · Rock-tomb 15/15 PP  · Swift 20/20 PP  · Incinerate 15/15 PP  \n",
      "6. Aerodactyl (ROCK) 270/270 HP\n",
      "    · Sky-attack 5/5 PP  · Rock-tomb 15/15 PP  · Swift 20/20 PP  · Incinerate 15/15 PP  \n",
      "\n",
      "\n",
      "ICE Monotype\n",
      "1. Jynx (ICE) 240/240 HP\n",
      "    · Facade 20/20 PP  · Brick-break 15/15 PP  · Mud-slap 10/10 PP  · Echoed-voice 15/15 PP  \n",
      "2. Jynx (ICE) 240/240 HP\n",
      "    · Facade 20/20 PP  · Brick-break 15/15 PP  · Mud-slap 10/10 PP  · Echoed-voice 15/15 PP  \n",
      "3. Articuno (ICE) 290/290 HP\n",
      "    · Twister 20/20 PP  · Blizzard 5/5 PP  · U-turn 20/20 PP  · Avalanche 10/10 PP  \n",
      "4. Jynx (ICE) 240/240 HP\n",
      "    · Facade 20/20 PP  · Brick-break 15/15 PP  · Mud-slap 10/10 PP  · Echoed-voice 15/15 PP  \n",
      "5. Jynx (ICE) 240/240 HP\n",
      "    · Facade 20/20 PP  · Brick-break 15/15 PP  · Mud-slap 10/10 PP  · Echoed-voice 15/15 PP  \n",
      "6. Articuno (ICE) 290/290 HP\n",
      "    · Twister 20/20 PP  · Blizzard 5/5 PP  · U-turn 20/20 PP  · Avalanche 10/10 PP  \n",
      "\n",
      "\n",
      "PSYCHIC Monotype\n",
      "1. Abra (PSYCHIC) 160/160 HP\n",
      "    · Signal-beam 15/15 PP  · Psychic 10/10 PP  · Take-down 20/20 PP  · Charge-beam 10/10 PP  \n",
      "2. Kadabra (PSYCHIC) 190/190 HP\n",
      "    · Take-down 20/20 PP  · Dream-eater 15/15 PP  · Dig 10/10 PP  · Psybeam 20/20 PP  \n",
      "3. Alakazam (PSYCHIC) 220/220 HP\n",
      "    · Skull-bash 10/10 PP  · Mega-kick 5/5 PP  · Hidden-power 15/15 PP  · Dream-eater 15/15 PP  \n",
      "4. Mewtwo (PSYCHIC) 322/322 HP\n",
      "    · Zen-headbutt 15/15 PP  · Incinerate 15/15 PP  · Aerial-ace 20/20 PP  · Thunderbolt 15/15 PP  \n",
      "5. Mew (PSYCHIC) 310/310 HP\n",
      "    · Mega-kick 5/5 PP  · Secret-power 20/20 PP  · Charge-beam 10/10 PP  · Zen-headbutt 15/15 PP  \n",
      "6. Hypno (PSYCHIC) 280/280 HP\n",
      "    · Headbutt 15/15 PP  · Dazzling-gleam 10/10 PP  · Ice-punch 15/15 PP  · Confusion 25/25 PP  \n",
      "\n",
      "\n",
      "GHOST Monotype\n",
      "1. Gastly (GHOST) 170/170 HP\n",
      "    · Sucker-punch 5/5 PP  · Thunder 10/10 PP  · Icy-wind 15/15 PP  · Hex 10/10 PP  \n",
      "2. Haunter (GHOST) 200/200 HP\n",
      "    · Lick 30/30 PP  · Self-destruct 5/5 PP  · Foul-play 15/15 PP  · Round 15/15 PP  \n",
      "3. Gengar (GHOST) 230/230 HP\n",
      "    · Fire-punch 15/15 PP  · Mega-punch 20/20 PP  · Shadow-claw 15/15 PP  · Focus-punch 20/20 PP  \n",
      "4. Gastly (GHOST) 170/170 HP\n",
      "    · Sucker-punch 5/5 PP  · Thunder 10/10 PP  · Icy-wind 15/15 PP  · Hex 10/10 PP  \n",
      "5. Haunter (GHOST) 200/200 HP\n",
      "    · Lick 30/30 PP  · Self-destruct 5/5 PP  · Foul-play 15/15 PP  · Round 15/15 PP  \n",
      "6. Gengar (GHOST) 230/230 HP\n",
      "    · Fire-punch 15/15 PP  · Mega-punch 20/20 PP  · Shadow-claw 15/15 PP  · Focus-punch 20/20 PP  \n",
      "\n"
     ]
    }
   ],
   "source": [
    "water_monotype = get_party(\n",
    "    'Wartortle',\n",
    "    'Poliwhirl',\n",
    "    'Tentacruel',\n",
    "    'Goldeen',\n",
    "    'Starmie',\n",
    "    'Vaporeon',\n",
    ")\n",
    "water_team = Team('WATER Monotype', water_monotype, '#6390F0')\n",
    "print(\"\\n%s\\n\" % water_team)\n",
    "\n",
    "fire_monotype = get_party(\n",
    "    'Charmeleon',\n",
    "    'Vulpix',\n",
    "    'Ninetales',\n",
    "    'Growlithe',\n",
    "    'Ponyta',\n",
    "    'Flareon',\n",
    ")\n",
    "fire_team = Team('FIRE Monotype', fire_monotype, '#EE8130')\n",
    "print(\"\\n%s\\n\" % fire_team)\n",
    "\n",
    "grass_monotype = get_party(\n",
    "    'Venusaur',\n",
    "    'Vileplume',\n",
    "    'Weepinbell',\n",
    "    'Victreebel',\n",
    "    'Exeggcute',\n",
    "    'Tangela',\n",
    ")\n",
    "grass_team = Team('GRASS Monotype', grass_monotype, '#7AC74C')\n",
    "print(\"\\n%s\\n\" % grass_team)\n",
    "\n",
    "normal_monotype = get_party(\n",
    "    'Pidgeot',\n",
    "    'Raticate',\n",
    "    'Fearow',\n",
    "    'Wigglytuff',\n",
    "    'Persian',\n",
    "    'Chansey',\n",
    ")\n",
    "normal_team = Team('NORMAL Monotype', normal_monotype, '#A8A77A')\n",
    "print(\"\\n%s\\n\" % normal_team)\n",
    "\n",
    "bug_monotype = get_party(\n",
    "    'Butterfree',\n",
    "    'Beedrill',\n",
    "    'Paras',\n",
    "    'Venonat',\n",
    "    'Scyther',\n",
    "    'Caterpie',\n",
    ")\n",
    "bug_team = Team('BUG Monotype', bug_monotype, '#A6B91A')\n",
    "print(\"\\n%s\\n\" % bug_team)\n",
    "\n",
    "poison_monotype = get_party(\n",
    "    'Arbok',\n",
    "    'Nidorina',\n",
    "    'Nidoqueen',\n",
    "    'Nidoran-m',\n",
    "    'Nidorino',\n",
    "    'Zubat',\n",
    ")\n",
    "poison_team = Team('POISON Monotype', poison_monotype, '#A33EA1')\n",
    "print(\"\\n%s\\n\" % poison_team)\n",
    "\n",
    "electric_monotype = get_party(\n",
    "    'Pikachu',\n",
    "    'Magnemite',\n",
    "    'Magneton',\n",
    "    'Voltorb',\n",
    "    'Electabuzz',\n",
    "    'Jolteon',\n",
    ")\n",
    "electric_team = Team('ELECTRIC Monotype', electric_monotype, '#F7D02C')\n",
    "print(\"\\n%s\\n\" % electric_team)\n",
    "\n",
    "ground_monotype = get_party(\n",
    "    'Sandshrew',\n",
    "    'Sandslash',\n",
    "    'Diglett',\n",
    "    'Rhyhorn',\n",
    "    'Cubone',\n",
    "    'Marowak',\n",
    ")\n",
    "ground_team = Team('GROUND Monotype', ground_monotype, '#E2BF65')\n",
    "print(\"\\n%s\\n\" % ground_team)\n",
    "\n",
    "fighting_monotype = get_party(\n",
    "    'Machop',\n",
    "    'Machoke',\n",
    "    'Machamp',\n",
    "    'Hitmonchan',\n",
    "    'Machoke',\n",
    "    'Machamp',\n",
    ")\n",
    "fighting_team = Team('FIGHTING Monotype', fighting_monotype, '#C22E28')\n",
    "print(\"\\n%s\\n\" % fighting_team)\n",
    "\n",
    "rock_monotype = get_party(\n",
    "    'Omanyte',\n",
    "    'Omastar',\n",
    "    'Kabuto',\n",
    "    'Kabutops',\n",
    "    'Aerodactyl',\n",
    "    'Aerodactyl',\n",
    ")\n",
    "rock_team = Team('ROCK Monotype', rock_monotype, '#B6A136')\n",
    "print(\"\\n%s\\n\" % rock_team)\n",
    "\n",
    "ice_monotype = get_party(\n",
    "    'Jynx',\n",
    "    'Jynx',\n",
    "    'Articuno',\n",
    "    'Jynx',\n",
    "    'Jynx',\n",
    "    'Articuno',\n",
    ")\n",
    "ice_team = Team('ICE Monotype', ice_monotype, '#B6A136')\n",
    "print(\"\\n%s\\n\" % ice_team)\n",
    "\n",
    "psychic_monotype = get_party(\n",
    "    'Abra',\n",
    "    'Kadabra',\n",
    "    'Alakazam',\n",
    "    'Mewtwo',\n",
    "    'Mew',\n",
    "    'Hypno',\n",
    ")\n",
    "psychic_team = Team('PSYCHIC Monotype', psychic_monotype, '#F95587')\n",
    "print(\"\\n%s\\n\" % psychic_team)\n",
    "\n",
    "ghost_monotype = get_party(\n",
    "    'Gastly',\n",
    "    'Haunter',\n",
    "    'Gengar',\n",
    "    'Gastly',\n",
    "    'Haunter',\n",
    "    'Gengar',\n",
    ")\n",
    "ghost_team = Team('GHOST Monotype', ghost_monotype, '#735797')\n",
    "print(\"\\n%s\\n\" % ghost_team)"
   ]
  },
  {
   "cell_type": "markdown",
   "metadata": {},
   "source": [
    "### Random Opponent"
   ]
  },
  {
   "cell_type": "markdown",
   "metadata": {},
   "source": [
    "#### Random Simulation Incentivizer"
   ]
  },
  {
   "cell_type": "markdown",
   "metadata": {},
   "source": [
    "##### Water vs. Fire Monotype"
   ]
  },
  {
   "cell_type": "code",
   "execution_count": null,
   "metadata": {},
   "outputs": [],
   "source": [
    "player_wins_a, player_wins_b, opponent_wins_a, opponent_wins_b = test_play(water_team, fire_team, RandomModel(), RANDOM_MODEL_NAME)"
   ]
  },
  {
   "cell_type": "code",
   "execution_count": null,
   "metadata": {},
   "outputs": [],
   "source": [
    "plot_performance(water_team, fire_team, player_wins_a, player_wins_b, opponent_wins_a, opponent_wins_b)"
   ]
  },
  {
   "cell_type": "markdown",
   "metadata": {},
   "source": [
    "##### Electric vs. Ghost"
   ]
  },
  {
   "cell_type": "code",
   "execution_count": null,
   "metadata": {},
   "outputs": [],
   "source": [
    "player_wins_a, player_wins_b, opponent_wins_a, opponent_wins_b = test_play(electric_team, ghost_team, RandomModel(), RANDOM_MODEL_NAME)"
   ]
  },
  {
   "cell_type": "code",
   "execution_count": null,
   "metadata": {
    "scrolled": true
   },
   "outputs": [],
   "source": [
    "plot_performance(electric_team, ghost_team, player_wins_a, player_wins_b, opponent_wins_a, opponent_wins_b)"
   ]
  },
  {
   "cell_type": "markdown",
   "metadata": {},
   "source": [
    "#### Super Effective Simulation Incentivizer"
   ]
  },
  {
   "cell_type": "markdown",
   "metadata": {},
   "source": [
    "##### Water vs. Fire Monotype"
   ]
  },
  {
   "cell_type": "code",
   "execution_count": null,
   "metadata": {},
   "outputs": [],
   "source": [
    "player_wins_a, player_wins_b, opponent_wins_a, opponent_wins_b = test_play(water_team, fire_team, RandomModel(), RANDOM_MODEL_NAME, use_damage_model=True)"
   ]
  },
  {
   "cell_type": "code",
   "execution_count": null,
   "metadata": {},
   "outputs": [],
   "source": [
    "plot_performance(water_team, fire_team, player_wins_a, player_wins_b, opponent_wins_a, opponent_wins_b)"
   ]
  },
  {
   "cell_type": "markdown",
   "metadata": {},
   "source": [
    "##### Electric vs. Ghost"
   ]
  },
  {
   "cell_type": "code",
   "execution_count": null,
   "metadata": {},
   "outputs": [],
   "source": [
    "player_wins_a, player_wins_b, opponent_wins_a, opponent_wins_b = test_play(electric_team, ghost_team, RandomModel(), RANDOM_MODEL_NAME, use_damage_model=True)"
   ]
  },
  {
   "cell_type": "code",
   "execution_count": null,
   "metadata": {
    "scrolled": false
   },
   "outputs": [],
   "source": [
    "plot_performance(electric_team, ghost_team, player_wins_a, player_wins_b, opponent_wins_a, opponent_wins_b)"
   ]
  },
  {
   "cell_type": "markdown",
   "metadata": {},
   "source": [
    "### Super-Effective Opponent"
   ]
  },
  {
   "cell_type": "markdown",
   "metadata": {},
   "source": [
    "#### Random Simulation Incentivizer"
   ]
  },
  {
   "cell_type": "markdown",
   "metadata": {},
   "source": [
    "##### Water vs. Fire Monotype"
   ]
  },
  {
   "cell_type": "code",
   "execution_count": null,
   "metadata": {},
   "outputs": [],
   "source": [
    "player_wins_a, player_wins_b, opponent_wins_a, opponent_wins_b = test_play(water_team, fire_team, DamageModel(), RANDOM_MODEL_NAME)"
   ]
  },
  {
   "cell_type": "code",
   "execution_count": null,
   "metadata": {},
   "outputs": [],
   "source": [
    "plot_performance(water_team, fire_team, player_wins_a, player_wins_b, opponent_wins_a, opponent_wins_b)"
   ]
  },
  {
   "cell_type": "markdown",
   "metadata": {},
   "source": [
    "##### Electric vs. Ghost"
   ]
  },
  {
   "cell_type": "code",
   "execution_count": null,
   "metadata": {},
   "outputs": [],
   "source": [
    "player_wins_a, player_wins_b, opponent_wins_a, opponent_wins_b = test_play(electric_team, ghost_team, DamageModel(), RANDOM_MODEL_NAME)"
   ]
  },
  {
   "cell_type": "code",
   "execution_count": null,
   "metadata": {
    "scrolled": true
   },
   "outputs": [],
   "source": [
    "plot_performance(electric_team, ghost_team, player_wins_a, player_wins_b, opponent_wins_a, opponent_wins_b)"
   ]
  },
  {
   "cell_type": "markdown",
   "metadata": {},
   "source": [
    "#### Super Effective Simulation Incentivizer"
   ]
  },
  {
   "cell_type": "markdown",
   "metadata": {},
   "source": [
    "##### Water vs. Fire Monotype"
   ]
  },
  {
   "cell_type": "code",
   "execution_count": null,
   "metadata": {},
   "outputs": [],
   "source": [
    "player_wins_a, player_wins_b, opponent_wins_a, opponent_wins_b = test_play(water_team, fire_team, DamageModel(), RANDOM_MODEL_NAME, use_damage_model=True)"
   ]
  },
  {
   "cell_type": "code",
   "execution_count": null,
   "metadata": {},
   "outputs": [],
   "source": [
    "plot_performance(water_team, fire_team, player_wins_a, player_wins_b, opponent_wins_a, opponent_wins_b)"
   ]
  },
  {
   "cell_type": "markdown",
   "metadata": {},
   "source": [
    "##### Electric vs. Ghost"
   ]
  },
  {
   "cell_type": "code",
   "execution_count": null,
   "metadata": {},
   "outputs": [],
   "source": [
    "player_wins_a, player_wins_b, opponent_wins_a, opponent_wins_b = test_play(electric_team, ghost_team, DamageModel(), RANDOM_MODEL_NAME, use_damage_model=True)"
   ]
  },
  {
   "cell_type": "code",
   "execution_count": null,
   "metadata": {
    "scrolled": false
   },
   "outputs": [],
   "source": [
    "plot_performance(electric_team, ghost_team, player_wins_a, player_wins_b, opponent_wins_a, opponent_wins_b)"
   ]
  },
  {
   "cell_type": "markdown",
   "metadata": {
    "pycharm": {
     "name": "#%% md\n"
    }
   },
   "source": [
    "### Super Genius Opponent\n",
    "\n"
   ]
  },
  {
   "cell_type": "markdown",
   "metadata": {},
   "source": [
    "## Strategic Types"
   ]
  },
  {
   "cell_type": "markdown",
   "metadata": {},
   "source": [
    "Create several strategically-typed parties.\n",
    "\n",
    "TODO: Add reasoning here"
   ]
  },
  {
   "cell_type": "code",
   "execution_count": null,
   "metadata": {
    "pycharm": {
     "is_executing": false,
     "name": "#%%\n"
    }
   },
   "outputs": [],
   "source": []
  },
  {
   "cell_type": "code",
   "execution_count": null,
   "metadata": {},
   "outputs": [],
   "source": []
  }
 ],
 "metadata": {
  "kernelspec": {
   "display_name": "Python 3",
   "language": "python",
   "name": "python3"
  },
  "language_info": {
   "codemirror_mode": {
    "name": "ipython",
    "version": 3
   },
   "file_extension": ".py",
   "mimetype": "text/x-python",
   "name": "python",
   "nbconvert_exporter": "python",
   "pygments_lexer": "ipython3",
   "version": "3.8.3"
  },
  "pycharm": {
   "stem_cell": {
    "cell_type": "raw",
    "metadata": {
     "collapsed": false
    },
    "source": []
   }
  }
 },
 "nbformat": 4,
 "nbformat_minor": 1
}
